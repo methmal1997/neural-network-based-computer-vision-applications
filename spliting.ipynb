{
 "cells": [
  {
   "cell_type": "code",
   "execution_count": 4,
   "metadata": {},
   "outputs": [],
   "source": [
    "import os\n",
    "import shutil"
   ]
  },
  {
   "cell_type": "code",
   "execution_count": null,
   "metadata": {},
   "outputs": [],
   "source": [
    "folder=os.chdir(\"D:\\\\uc file\\\\Intern ship\\\\projects\\\\neural-network base aplications\\\\data\\\\test\")\n",
    "\n",
    "for f in os.listdir(folder):\n",
    "    folder_name = f[0:3]\n",
    "    \n",
    "    if not os.path.exists(folder_name):\n",
    "        os.mkdir(folder_name)\n",
    "        shutil.copy(os.path.join(\"folder\", f), folder_name)\n",
    "    else:\n",
    "        shutil.copy(os.path.join(\"folder\", f), folder_name)"
   ]
  }
 ],
 "metadata": {
  "kernelspec": {
   "display_name": "Python 3",
   "language": "python",
   "name": "python3"
  },
  "language_info": {
   "codemirror_mode": {
    "name": "ipython",
    "version": 3
   },
   "file_extension": ".py",
   "mimetype": "text/x-python",
   "name": "python",
   "nbconvert_exporter": "python",
   "pygments_lexer": "ipython3",
   "version": "3.6.8"
  }
 },
 "nbformat": 4,
 "nbformat_minor": 1
}